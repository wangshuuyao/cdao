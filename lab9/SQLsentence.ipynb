{
 "cells": [
  {
   "cell_type": "raw",
   "source": [
    "第三题\n",
    "-- 创建新数据库\n",
    "CREATE DATABASE IF NOT EXISTS new_database;\n",
    "\n",
    "-- 切换到新数据库\n",
    "USE new_database;\n",
    "\n",
    "-- 创建user表\n",
    "CREATE TABLE IF NOT EXISTS user (\n",
    "    id INT AUTO_INCREMENT PRIMARY KEY,\n",
    "    name VARCHAR(255) NOT NULL,\n",
    "    sex VARCHAR(10),\n",
    "    age INT,\n",
    "    phone VARCHAR(20)\n",
    ");\n",
    "\n",
    "-- 插入数据\n",
    "INSERT INTO user (name, sex, age, phone) VALUES\n",
    "('John', 'Male', 25, '123-456-7890'),\n",
    "('Jane', 'Female', 30, '987-654-3210'),\n",
    "('Bob', 'Male', 22, '535-123-4567');"
   ],
   "metadata": {
    "collapsed": false
   },
   "id": "2ea9e68c7358ffd3"
  },
  {
   "cell_type": "raw",
   "source": [
    "第四题\n",
    "SELECT * FROM user\n",
    "WHERE age BETWEEN 20 AND 30;"
   ],
   "metadata": {
    "collapsed": false
   },
   "id": "f01ef4a45fea0ee5"
  },
  {
   "cell_type": "raw",
   "source": [
    "第五题\n",
    "DELETE FROM user\n",
    "WHERE name LIKE '%张%';"
   ],
   "metadata": {
    "collapsed": false
   },
   "id": "ab1971d08a6987b5"
  },
  {
   "cell_type": "raw",
   "source": [
    "第六题\n",
    "SELECT AVG(age) AS average_age FROM user;"
   ],
   "metadata": {
    "collapsed": false
   },
   "id": "c22c0def83bb65c7"
  },
  {
   "cell_type": "raw",
   "source": [
    "第七题\n",
    "SELECT * FROM user\n",
    "WHERE age BETWEEN 20 AND 30\n",
    "  AND name LIKE '%张%'\n",
    "ORDER BY age DESC;"
   ],
   "metadata": {
    "collapsed": false
   },
   "id": "aca38ac430715860"
  },
  {
   "cell_type": "raw",
   "source": [
    "第八题\n",
    "-- 创建 team 表\n",
    "CREATE TABLE team (\n",
    "    id INT PRIMARY KEY AUTO_INCREMENT,\n",
    "    teamName VARCHAR(255) NOT NULL\n",
    ");\n",
    "\n",
    "-- 创建 score 表\n",
    "CREATE TABLE score (\n",
    "    id INT PRIMARY KEY AUTO_INCREMENT,\n",
    "    teamid INT,\n",
    "    userid INT,\n",
    "    score INT,\n",
    "    FOREIGN KEY (teamid) REFERENCES team(id),\n",
    "    FOREIGN KEY (userid) REFERENCES user(id)\n",
    ");"
   ],
   "metadata": {
    "collapsed": false
   },
   "id": "bd78ae4ab9a49204"
  },
  {
   "cell_type": "raw",
   "source": [
    "第九题\n",
    "-- 将 user 表、score 表和 team 表连接起来。然后，通过 WHERE 子句筛选出 teamName 为“ECNU”且年龄小于 20 的用户。\n",
    "SELECT user.*\n",
    "FROM user\n",
    "JOIN score ON user.id = score.userid\n",
    "JOIN team ON score.teamid = team.id\n",
    "WHERE team.teamName = 'ECNU' AND user.age < 20;"
   ],
   "metadata": {
    "collapsed": false
   },
   "id": "52a75aaa3992a9b0"
  },
  {
   "cell_type": "raw",
   "source": [
    "第十题\n",
    "-- 使用 COALESCE 函数将可能的 null 值转换为 0\n",
    "SELECT team.teamName, COALESCE(SUM(score.score), 0) AS totalScore\n",
    "FROM team\n",
    "LEFT JOIN score ON team.id = score.teamid\n",
    "WHERE team.teamName = 'ECNU'\n",
    "GROUP BY team.teamName;"
   ],
   "metadata": {
    "collapsed": false
   },
   "id": "e6b3f4f912c29fc1"
  }
 ],
 "metadata": {
  "kernelspec": {
   "display_name": "Python 3",
   "language": "python",
   "name": "python3"
  },
  "language_info": {
   "codemirror_mode": {
    "name": "ipython",
    "version": 2
   },
   "file_extension": ".py",
   "mimetype": "text/x-python",
   "name": "python",
   "nbconvert_exporter": "python",
   "pygments_lexer": "ipython2",
   "version": "2.7.6"
  }
 },
 "nbformat": 4,
 "nbformat_minor": 5
}
