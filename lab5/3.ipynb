{
 "cells": [
  {
   "cell_type": "raw",
   "source": [
    "流程图"
   ],
   "metadata": {
    "collapsed": false
   },
   "id": "76861cf50fa16cfe"
  },
  {
   "cell_type": "raw",
   "source": [
    "+------------------+\n",
    "|    开始排序      |\n",
    "+------------------+\n",
    "        |\n",
    "        V\n",
    "+------------------+\n",
    "| 初始化已排序序列 |\n",
    "+------------------+\n",
    "        |\n",
    "        V\n",
    "+------------------+\n",
    "| 对于数组中的每个 |\n",
    "| 未排序的元素     |\n",
    "+------------------+\n",
    "        |\n",
    "        V\n",
    "+------------------+\n",
    "|  将该元素提取出 |\n",
    "|  来，记作key    |\n",
    "+------------------+\n",
    "        |\n",
    "        V\n",
    "+------------------+\n",
    "|   从已排序序列  |\n",
    "|  的末尾开始向前 |\n",
    "|  比较每个元素   |\n",
    "+------------------+\n",
    "        |\n",
    "   是 /       \\ 否\n",
    "     /         \\\n",
    "+------+     +------+\n",
    "| key< |     |      |\n",
    "| 元素  |     | 插入  |\n",
    "+------+     | key  |\n",
    "     \\       +------+\n",
    "      \\       /\n",
    "       V     V\n",
    "+------------------+\n",
    "|    将比key大的   |\n",
    "|  元素向后移动一位  |\n",
    "+------------------+\n",
    "        |\n",
    "        |\n",
    "        V\n",
    "+------------------+\n",
    "|  返回处理下一个  |\n",
    "|  未排序的元素    |\n",
    "+------------------+\n",
    "        |\n",
    "        |\n",
    "        V\n",
    "+------------------+\n",
    "|     排序结束     |\n",
    "+------------------+\n"
   ],
   "metadata": {
    "collapsed": false
   },
   "id": "b5f4961fb3964895"
  },
  {
   "cell_type": "raw",
   "source": [
    "python代码"
   ],
   "metadata": {
    "collapsed": false
   },
   "id": "c97e368b8a13bfbd"
  },
  {
   "cell_type": "code",
   "execution_count": 1,
   "outputs": [],
   "source": [
    "def insertion_sort(arr):  \n",
    "    n = len(arr)  \n",
    "    for i in range(1, n):  \n",
    "        key = arr[i]  \n",
    "        j = i - 1  \n",
    "        while j >= 0 and arr[j] > key:  \n",
    "            arr[j + 1] = arr[j]  \n",
    "            j -= 1  \n",
    "        arr[j + 1] = key  \n",
    "    return arr"
   ],
   "metadata": {
    "collapsed": false,
    "ExecuteTime": {
     "end_time": "2023-11-10T10:43:57.167408700Z",
     "start_time": "2023-11-10T10:43:57.151757800Z"
    }
   },
   "id": "6139ea9a7c3b02f1"
  },
  {
   "cell_type": "code",
   "execution_count": null,
   "outputs": [],
   "source": [],
   "metadata": {
    "collapsed": false
   },
   "id": "90f5372910d853d2"
  }
 ],
 "metadata": {
  "kernelspec": {
   "display_name": "Python 3",
   "language": "python",
   "name": "python3"
  },
  "language_info": {
   "codemirror_mode": {
    "name": "ipython",
    "version": 2
   },
   "file_extension": ".py",
   "mimetype": "text/x-python",
   "name": "python",
   "nbconvert_exporter": "python",
   "pygments_lexer": "ipython2",
   "version": "2.7.6"
  }
 },
 "nbformat": 4,
 "nbformat_minor": 5
}
